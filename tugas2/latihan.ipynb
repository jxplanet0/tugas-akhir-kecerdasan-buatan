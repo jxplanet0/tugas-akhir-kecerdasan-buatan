{
 "cells": [
  {
   "cell_type": "code",
   "execution_count": null,
   "metadata": {},
   "outputs": [],
   "source": []
  }
 ],
 "metadata": {
  "kernelspec": {
   "display_name": "Python 3.10.6 64-bit ('3.10.6')",
   "language": "python",
   "name": "python3"
  },
  "language_info": {
   "name": "python",
   "version": "3.10.6"
  },
  "orig_nbformat": 4,
  "vscode": {
   "interpreter": {
    "hash": "cd3929d8ef47913c6ef533181328340c5f72090fba41426f22a4279f16bebf46"
   }
  }
 },
 "nbformat": 4,
 "nbformat_minor": 2
}
